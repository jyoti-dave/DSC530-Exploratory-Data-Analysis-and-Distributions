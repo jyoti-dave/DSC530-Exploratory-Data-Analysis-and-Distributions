{
 "cells": [
  {
   "cell_type": "code",
   "execution_count": 1,
   "id": "119a821b-852c-40ce-991b-af7b8e47989c",
   "metadata": {},
   "outputs": [],
   "source": [
    "# 2.1 Exercise: Preparing for Exploratory Data Analysis"
   ]
  },
  {
   "cell_type": "code",
   "execution_count": 7,
   "id": "d3ff20e8-8db7-4678-b3f4-6b3c02d43b67",
   "metadata": {},
   "outputs": [
    {
     "name": "stdout",
     "output_type": "stream",
     "text": [
      "Hello World! My name is Jyoti\n"
     ]
    }
   ],
   "source": [
    "# Display the text “Hello World! My name is ....\"\n",
    "\n",
    "print(\"Hello World! My name is Jyoti\")"
   ]
  },
  {
   "cell_type": "code",
   "execution_count": 9,
   "id": "6428db1c-cb5b-40d5-9a42-3fc364074f9a",
   "metadata": {},
   "outputs": [
    {
     "name": "stdout",
     "output_type": "stream",
     "text": [
      "Addition: 150\n"
     ]
    }
   ],
   "source": [
    "# Add two numbers together\n",
    "a = 100\n",
    "b = 50\n",
    "addition = a + b\n",
    "print(\"Addition:\", addition)"
   ]
  },
  {
   "cell_type": "code",
   "execution_count": 11,
   "id": "aa69b30d-eaed-4b86-b977-f827d3e841b2",
   "metadata": {},
   "outputs": [
    {
     "name": "stdout",
     "output_type": "stream",
     "text": [
      "Subtraction: 50\n"
     ]
    }
   ],
   "source": [
    "# Subtract a number from another number\n",
    "subtraction = a - b\n",
    "print(\"Subtraction:\", subtraction)"
   ]
  },
  {
   "cell_type": "code",
   "execution_count": 13,
   "id": "81174838-a30b-46bb-a4de-1ff06d0d5dbb",
   "metadata": {},
   "outputs": [
    {
     "name": "stdout",
     "output_type": "stream",
     "text": [
      "Multiplication: 5000\n"
     ]
    }
   ],
   "source": [
    "# Multiply two numbers\n",
    "multiplication = a * b\n",
    "print(\"Multiplication:\", multiplication)"
   ]
  },
  {
   "cell_type": "code",
   "execution_count": 15,
   "id": "45c0a1e6-f0cd-4648-9f29-6b7afebec84e",
   "metadata": {},
   "outputs": [
    {
     "name": "stdout",
     "output_type": "stream",
     "text": [
      "Division: 2.0\n"
     ]
    }
   ],
   "source": [
    "# Divide between two numbers\n",
    "division = a / b\n",
    "print(\"Division:\", division)"
   ]
  },
  {
   "cell_type": "code",
   "execution_count": 17,
   "id": "3bc4de43-c993-48bc-8bea-a86eb37fa639",
   "metadata": {},
   "outputs": [
    {
     "name": "stdout",
     "output_type": "stream",
     "text": [
      "Concatenation: Hello World\n"
     ]
    }
   ],
   "source": [
    "# Concatenate two strings together (any words)\n",
    "string1 = \"Hello\"\n",
    "string2 = \"World\"\n",
    "concatenation = string1 + \" \" + string2\n",
    "print(\"Concatenation:\", concatenation)"
   ]
  },
  {
   "cell_type": "code",
   "execution_count": 19,
   "id": "12322841-5fef-4e00-94e2-98f4ea92f45f",
   "metadata": {},
   "outputs": [
    {
     "name": "stdout",
     "output_type": "stream",
     "text": [
      "List: [0, 'Data science', 100.1, True]\n"
     ]
    }
   ],
   "source": [
    "# Create a list of 4 items (can be strings, numbers, both)\n",
    "my_list = [0, \"Data science\", 100.100, True]\n",
    "print(\"List:\", my_list) "
   ]
  },
  {
   "cell_type": "code",
   "execution_count": 21,
   "id": "55153e4c-ec1a-4522-bc1b-c9c05085f6a1",
   "metadata": {},
   "outputs": [
    {
     "name": "stdout",
     "output_type": "stream",
     "text": [
      "Updated List: [0, 'Data science', 100.1, True, '530']\n"
     ]
    }
   ],
   "source": [
    "# Append an item to your list (again, can be a string, number)\n",
    "my_list.append(\"530\")\n",
    "print(\"Updated List:\", my_list) "
   ]
  },
  {
   "cell_type": "code",
   "execution_count": 23,
   "id": "dde78d9a-9880-435d-b367-7250e2986fb6",
   "metadata": {},
   "outputs": [
    {
     "name": "stdout",
     "output_type": "stream",
     "text": [
      "Tuple: (0, 'Data science', 100.1, True)\n"
     ]
    }
   ],
   "source": [
    "# Create a tuple with 4 items (can be strings, numbers, both)\n",
    "my_tuple = (0, \"Data science\", 100.100, True)\n",
    "print(\"Tuple:\", my_tuple)"
   ]
  }
 ],
 "metadata": {
  "kernelspec": {
   "display_name": "Python 3 (ipykernel)",
   "language": "python",
   "name": "python3"
  },
  "language_info": {
   "codemirror_mode": {
    "name": "ipython",
    "version": 3
   },
   "file_extension": ".py",
   "mimetype": "text/x-python",
   "name": "python",
   "nbconvert_exporter": "python",
   "pygments_lexer": "ipython3",
   "version": "3.12.4"
  }
 },
 "nbformat": 4,
 "nbformat_minor": 5
}
